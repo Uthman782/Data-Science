{
 "cells": [
  {
   "cell_type": "code",
   "execution_count": 7,
   "id": "4b7003f2",
   "metadata": {},
   "outputs": [],
   "source": [
    "import numpy as np\n",
    "import matplotlib.pyplot as plt"
   ]
  },
  {
   "cell_type": "code",
   "execution_count": 53,
   "id": "c288c7bf",
   "metadata": {},
   "outputs": [],
   "source": [
    "%matplotlib inline\n",
    "def gradient_descent(x, y):\n",
    "    m_curr = b_curr = 0\n",
    "    iteration = 10\n",
    "    n = len(x)\n",
    "    learning_rate = 0.001\n",
    "    fig, ax = plt.subplots(figsize=(15,10))\n",
    "    ax.scatter(x, y, color='red', marker='d', linewidths=5)\n",
    "    for i in range(1000000):\n",
    "        yp = m_curr * x + b_curr\n",
    "#         print(m_curr, b_curr, i)\n",
    "        ax.plot(x, yp, color = 'green')\n",
    "        cost = (1/n) * sum([val**2 for val in (y-yp)])\n",
    "        md = -(2/n) * sum(x * (y - yp))\n",
    "        bd = -(2/n) * sum(y - yp)\n",
    "\n",
    "        m_curr = m_curr - learning_rate * md\n",
    "        b_curr = b_curr - learning_rate * bd"
   ]
  },
  {
   "cell_type": "code",
   "execution_count": 23,
   "id": "04b5f6bf",
   "metadata": {},
   "outputs": [],
   "source": [
    "x = np.array([1,2,3,4,5])\n",
    "y = np.array([5,7,9,11,13])"
   ]
  },
  {
   "cell_type": "code",
   "execution_count": null,
   "id": "a0d4979a",
   "metadata": {},
   "outputs": [],
   "source": [
    "gradient_descent(x, y);"
   ]
  },
  {
   "cell_type": "code",
   "execution_count": null,
   "id": "fd764b28",
   "metadata": {},
   "outputs": [],
   "source": []
  }
 ],
 "metadata": {
  "kernelspec": {
   "display_name": "Python 3 (ipykernel)",
   "language": "python",
   "name": "python3"
  },
  "language_info": {
   "codemirror_mode": {
    "name": "ipython",
    "version": 3
   },
   "file_extension": ".py",
   "mimetype": "text/x-python",
   "name": "python",
   "nbconvert_exporter": "python",
   "pygments_lexer": "ipython3",
   "version": "3.9.12"
  }
 },
 "nbformat": 4,
 "nbformat_minor": 5
}
