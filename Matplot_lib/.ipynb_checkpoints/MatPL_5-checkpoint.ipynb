{
 "cells": [
  {
   "cell_type": "code",
   "execution_count": 2,
   "id": "40ca8c4b",
   "metadata": {},
   "outputs": [],
   "source": [
    "import matplotlib.pyplot as plt\n",
    "%matplotlib inline"
   ]
  },
  {
   "cell_type": "code",
   "execution_count": 19,
   "id": "03d248d0",
   "metadata": {},
   "outputs": [
    {
     "data": {
      "text/plain": [
       "(array([6., 2., 4.]),\n",
       " array([ 80, 100, 125, 150]),\n",
       " <BarContainer object of 3 artists>)"
      ]
     },
     "execution_count": 19,
     "metadata": {},
     "output_type": "execute_result"
    },
    {
     "data": {
      "image/png": "[encoded data removed]",
      "text/plain": [
       "<Figure size 432x288 with 1 Axes>"
      ]
     },
     "metadata": {
      "needs_background": "light"
     },
     "output_type": "display_data"
    }
   ],
   "source": [
    "blood_sugar = [113,85,90,150,149,88,93,115,135,80,77,82,129]\n",
    "# plt.hist(blood_sugar, bins = [80,100,125,150], rwidth = 0.60, histtype='step', color = 'g')\n",
    "plt.hist(blood_sugar, bins = [80,100,125,150], rwidth = 0.60, color = 'g')"
   ]
  },
  {
   "cell_type": "code",
   "execution_count": 24,
   "id": "aefde06f",
   "metadata": {},
   "outputs": [
    {
     "data": {
      "image/png": "[encoded data removed]",
      "text/plain": [
       "<Figure size 432x288 with 1 Axes>"
      ]
     },
     "metadata": {
      "needs_background": "light"
     },
     "output_type": "display_data"
    }
   ],
   "source": [
    "blood_sugar_men = [113,85,90,150,149,88,93,115,135,80,77,82,129]\n",
    "blood_sugar_women = [67,98,89,120,133,150,84,69,89,79,120,112,100]\n",
    "\n",
    "plt.hist([blood_sugar_men, blood_sugar_women], bins = [80,100,125,150], rwidth = 0.60, color = 'g')\n",
    "plt.show()"
   ]
  },
  {
   "cell_type": "code",
   "execution_count": null,
   "id": "e0e802e9",
   "metadata": {},
   "outputs": [],
   "source": []
  }
 ],
 "metadata": {
  "kernelspec": {
   "display_name": "Python 3 (ipykernel)",
   "language": "python",
   "name": "python3"
  },
  "language_info": {
   "codemirror_mode": {
    "name": "ipython",
    "version": 3
   },
   "file_extension": ".py",
   "mimetype": "text/x-python",
   "name": "python",
   "nbconvert_exporter": "python",
   "pygments_lexer": "ipython3",
   "version": "3.9.12"
  }
 },
 "nbformat": 4,
 "nbformat_minor": 5
}
