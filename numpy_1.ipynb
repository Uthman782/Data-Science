{
 "cells": [
  {
   "cell_type": "code",
   "execution_count": 4,
   "id": "c0877923",
   "metadata": {},
   "outputs": [],
   "source": [
    "import numpy as np"
   ]
  },
  {
   "cell_type": "code",
   "execution_count": 6,
   "id": "8070f2be",
   "metadata": {},
   "outputs": [
    {
     "data": {
      "text/plain": [
       "array([[ 0,  1,  2,  3],\n",
       "       [ 4,  5,  6,  7],\n",
       "       [ 8,  9, 10, 11]])"
      ]
     },
     "execution_count": 6,
     "metadata": {},
     "output_type": "execute_result"
    }
   ],
   "source": [
    "a = np.arange(12).reshape((3,4))\n",
    "a"
   ]
  },
  {
   "cell_type": "code",
   "execution_count": 8,
   "id": "319b21db",
   "metadata": {},
   "outputs": [
    {
     "name": "stdout",
     "output_type": "stream",
     "text": [
      "0 1 2 3 4 5 6 7 8 9 10 11 "
     ]
    }
   ],
   "source": [
    "for row in a:\n",
    "    for i in row:\n",
    "        print(i, end=\" \")"
   ]
  },
  {
   "cell_type": "code",
   "execution_count": 10,
   "id": "6f812055",
   "metadata": {},
   "outputs": [
    {
     "name": "stdout",
     "output_type": "stream",
     "text": [
      "0 1 2 3 4 5 6 7 8 9 10 11 "
     ]
    }
   ],
   "source": [
    "for cell in a.flatten():\n",
    "    print(cell, end=\" \")"
   ]
  },
  {
   "cell_type": "code",
   "execution_count": 26,
   "id": "036e1303",
   "metadata": {},
   "outputs": [
    {
     "name": "stdout",
     "output_type": "stream",
     "text": [
      "[ 0  1  2  3  4  5  6  7  8  9 10 11]\n"
     ]
    }
   ],
   "source": [
    "# c= 0\n",
    "for x in np.nditer(a, order=\"c\", flags=['external_loop']):\n",
    "    print(x)\n",
    "#     c+=x\n",
    "# print(f\"\\nthe Sum of this array is {c}\")"
   ]
  },
  {
   "cell_type": "code",
   "execution_count": 16,
   "id": "38f4c729",
   "metadata": {},
   "outputs": [
    {
     "data": {
      "text/plain": [
       "2"
      ]
     },
     "execution_count": 16,
     "metadata": {},
     "output_type": "execute_result"
    }
   ],
   "source": [
    "a.ndim"
   ]
  },
  {
   "cell_type": "code",
   "execution_count": 33,
   "id": "f5e45259",
   "metadata": {},
   "outputs": [],
   "source": [
    "for x in np.nditer(a, op_flags=['readwrite']):\n",
    "    x[...]=x*x"
   ]
  },
  {
   "cell_type": "code",
   "execution_count": 41,
   "id": "1fb77b10",
   "metadata": {},
   "outputs": [
    {
     "data": {
      "text/plain": [
       "array([[        0,         1,       256,      6561],\n",
       "       [    65536,    390625,   1679616,   5764801],\n",
       "       [ 16777216,  43046721, 100000000, 214358881]])"
      ]
     },
     "execution_count": 41,
     "metadata": {},
     "output_type": "execute_result"
    }
   ],
   "source": [
    "a"
   ]
  },
  {
   "cell_type": "code",
   "execution_count": 56,
   "id": "f9b47746",
   "metadata": {},
   "outputs": [],
   "source": [
    "b = np.arange(3,15,4).reshape(3,1)"
   ]
  },
  {
   "cell_type": "code",
   "execution_count": 47,
   "id": "0b41fbc5",
   "metadata": {},
   "outputs": [
    {
     "data": {
      "text/plain": [
       "array([[ 3],\n",
       "       [ 7],\n",
       "       [11]])"
      ]
     },
     "execution_count": 47,
     "metadata": {},
     "output_type": "execute_result"
    }
   ],
   "source": [
    "b"
   ]
  },
  {
   "cell_type": "code",
   "execution_count": 57,
   "id": "48a01d20",
   "metadata": {},
   "outputs": [
    {
     "name": "stdout",
     "output_type": "stream",
     "text": [
      "0 3\n",
      "1 3\n",
      "256 3\n",
      "6561 3\n",
      "65536 7\n",
      "390625 7\n",
      "1679616 7\n",
      "5764801 7\n",
      "16777216 11\n",
      "43046721 11\n",
      "100000000 11\n",
      "214358881 11\n"
     ]
    }
   ],
   "source": [
    "for x,y in np.nditer([a,b]):\n",
    "    print(x,y)"
   ]
  },
  {
   "cell_type": "code",
   "execution_count": 76,
   "id": "6b0eeb30",
   "metadata": {},
   "outputs": [
    {
     "data": {
      "text/plain": [
       "array([[0, 1, 2, 3, 4],\n",
       "       [5, 6, 7, 8, 9]])"
      ]
     },
     "execution_count": 76,
     "metadata": {},
     "output_type": "execute_result"
    }
   ],
   "source": [
    "d = np.arange(10).reshape(2,5)\n",
    "d"
   ]
  },
  {
   "cell_type": "code",
   "execution_count": 78,
   "id": "1d236466",
   "metadata": {},
   "outputs": [
    {
     "data": {
      "text/plain": [
       "array([[1.39069238e-309, 1.39069238e-309, 1.39069238e-309],\n",
       "       [1.39069238e-309, 1.39069238e-309, 1.39069238e-309]])"
      ]
     },
     "execution_count": 78,
     "metadata": {},
     "output_type": "execute_result"
    }
   ],
   "source": [
    "d = np.empty((2,3))\n",
    "d"
   ]
  },
  {
   "cell_type": "code",
   "execution_count": 80,
   "id": "4aec1258",
   "metadata": {},
   "outputs": [
    {
     "data": {
      "text/plain": [
       "array([[[ 0,  1],\n",
       "        [ 2,  3],\n",
       "        [ 4,  5]],\n",
       "\n",
       "       [[ 6,  7],\n",
       "        [ 8,  9],\n",
       "        [10, 11]]])"
      ]
     },
     "execution_count": 80,
     "metadata": {},
     "output_type": "execute_result"
    }
   ],
   "source": [
    "e = np.arange(12).reshape(2,3,2)\n",
    "e"
   ]
  },
  {
   "cell_type": "code",
   "execution_count": 85,
   "id": "c55c0aa3",
   "metadata": {},
   "outputs": [
    {
     "data": {
      "text/plain": [
       "array([[ 0,  1,  2,  3,  4,  5,  6,  7,  8,  9],\n",
       "       [10, 11, 12, 13, 14, 15, 16, 17, 18, 19],\n",
       "       [20, 21, 22, 23, 24, 25, 26, 27, 28, 29],\n",
       "       [30, 31, 32, 33, 34, 35, 36, 37, 38, 39],\n",
       "       [40, 41, 42, 43, 44, 45, 46, 47, 48, 49],\n",
       "       [50, 51, 52, 53, 54, 55, 56, 57, 58, 59],\n",
       "       [60, 61, 62, 63, 64, 65, 66, 67, 68, 69],\n",
       "       [70, 71, 72, 73, 74, 75, 76, 77, 78, 79],\n",
       "       [80, 81, 82, 83, 84, 85, 86, 87, 88, 89],\n",
       "       [90, 91, 92, 93, 94, 95, 96, 97, 98, 99]])"
      ]
     },
     "execution_count": 85,
     "metadata": {},
     "output_type": "execute_result"
    }
   ],
   "source": [
    "f = np.arange(100).reshape(10,10)\n",
    "f"
   ]
  },
  {
   "cell_type": "code",
   "execution_count": null,
   "id": "d9ba5244",
   "metadata": {},
   "outputs": [],
   "source": []
  }
 ],
 "metadata": {
  "kernelspec": {
   "display_name": "Python 3 (ipykernel)",
   "language": "python",
   "name": "python3"
  },
  "language_info": {
   "codemirror_mode": {
    "name": "ipython",
    "version": 3
   },
   "file_extension": ".py",
   "mimetype": "text/x-python",
   "name": "python",
   "nbconvert_exporter": "python",
   "pygments_lexer": "ipython3",
   "version": "3.9.12"
  }
 },
 "nbformat": 4,
 "nbformat_minor": 5
}
